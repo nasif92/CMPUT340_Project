{
  "nbformat": 4,
  "nbformat_minor": 0,
  "metadata": {
    "colab": {
      "name": "parallel_vs_sequential_graph",
      "provenance": []
    },
    "kernelspec": {
      "name": "python3",
      "display_name": "Python 3"
    }
  },
  "cells": [
    {
      "cell_type": "code",
      "metadata": {
        "colab": {
          "base_uri": "https://localhost:8080/"
        },
        "id": "QrJcxIy8RySC",
        "outputId": "add618cc-a58b-4613-c0fc-3fd0cd02d167"
      },
      "source": [
        "import multiprocessing as mp\n",
        "import time\n",
        "import numpy as np\n",
        "import math\n",
        "matrices_A = [np.random.randint(10,900,(10*i,10*i)) for i in range(15)]\n",
        "matrices_B = [np.random.randint(10,900,(10*i,10*i)) for i in range(15)]\n",
        "time_multiply_matrices = []\n",
        "time_multiply_matrices_parallel = []\n",
        "\n",
        "def multiply_matrices(A, B):\n",
        "    C = np.zeros((A.shape[0], B.shape[1]))\n",
        "    for i in range(A.shape[0]):\n",
        "      for j in range(B.shape[1]):\n",
        "        for k in range(B.shape[0]):\n",
        "          # write your code here\n",
        "          C[i,j] += A[i,k] * B[k,j]\n",
        "    return C\n",
        "\n",
        "\"\"\" Parallel implementation \"\"\"\n",
        "\n",
        "def div(rows, n):\n",
        "    div_list = []\n",
        "    num = n\n",
        "    while num > 0:\n",
        "        # if the number of rows is larger than the number of processors then divide\n",
        "        if rows > num:\n",
        "            x = math.ceil(rows / num)\n",
        "            div_list.append(int(x))\n",
        "            rows -= x\n",
        "            num -= 1\n",
        "        elif rows == 0:\n",
        "            div_list.append(0)\n",
        "            num -= 1\n",
        "        else:\n",
        "            div_list.append(1)\n",
        "            rows -= 1\n",
        "            num -= 1\n",
        "    return div_list\n",
        "\n",
        "def mat_mult_parallel(A, B, index):\n",
        "\n",
        "  r = B.shape[1]\n",
        "  for i in range(A.shape[0]):\n",
        "      for j in range(B.shape[1]):\n",
        "          sharedMemArr[index*r + i*r + j] = np.sum(A[i,:] * B[:,j])\n",
        "\n",
        "\n",
        "def run_parallel(A, B, numProcessors, sharedMemArr):\n",
        "    processes = []\n",
        "    m = 0\n",
        "    n = A.shape[0]\n",
        "\n",
        "    for i in range(numProcessors):\n",
        "      x = div(A.shape[0], numProcessors)\n",
        "      A_slice = A[m:m + x[i]]\n",
        "      p = mp.Process(target=mat_mult_parallel, args=(A_slice, B,m ))\n",
        "      p.start()\n",
        "      m += x[i]\n",
        "      processes.append(p)\n",
        "    if 1 in x:\n",
        "        return multiply_matrices_vectorized(A, B)\n",
        "    for p in processes:\n",
        "        p.join()\n",
        "\n",
        "    C = np.reshape(sharedMemArr, (n,B.shape[1]))\t\n",
        "    return C\n",
        "\n",
        "\n",
        "\n",
        "def multiply_matrices_vectorized(A, B):\n",
        "    C = np.zeros((A.shape[0], B.shape[1]))\n",
        "    # implement here your vectorized solution\n",
        "    for i in range(A.shape[0]):\n",
        "      for j in range(B.shape[1]):\n",
        "        C[i,j] += np.sum(A[i,:] * B[:,j])\n",
        "    return C\n",
        "\n",
        "\n",
        "\n",
        "\"\"\"Graph\"\"\"\n",
        "def get_multiply_matrices_time(A, B):\n",
        "  time_start = time.time()\n",
        "  C = multiply_matrices(A,B)\n",
        "  time_end = time.time()\n",
        "  return round(time_end - time_start,3)\n",
        "\n",
        "def get_multiply_matrices_vectorized_time(A,B):\n",
        "\n",
        "  time_start = time.time()\n",
        "  n = A.shape[0]\n",
        "  C = run_parallel(A,B, 4, sharedMemArr)\n",
        "  time_end = time.time()\n",
        "  return round(time_end - time_start,3)\n",
        "\n",
        "for i in range(15):\n",
        "  print(\"Sequential:\",get_multiply_matrices_time(matrices_A[i], matrices_B[i]))\n",
        "  time_multiply_matrices.append(get_multiply_matrices_time(matrices_A[i], matrices_B[i]))\n",
        "  sharedMemArr = mp.Array(\"i\", matrices_A[i].shape[0]* matrices_B[i].shape[1]) \n",
        "\n",
        "  print(\"Parallel:\", get_multiply_matrices_vectorized_time(matrices_A[i], matrices_B[i]))\n",
        "  time_multiply_matrices_parallel.append(get_multiply_matrices_vectorized_time(matrices_A[i], matrices_B[i]))"
      ],
      "execution_count": 12,
      "outputs": [
        {
          "output_type": "stream",
          "text": [
            "Sequential: 0.0\n",
            "Parallel: 0.025\n",
            "Sequential: 0.001\n",
            "Parallel: 0.026\n",
            "Sequential: 0.007\n",
            "Parallel: 0.033\n",
            "Sequential: 0.025\n",
            "Parallel: 0.035\n",
            "Sequential: 0.061\n",
            "Parallel: 0.045\n",
            "Sequential: 0.115\n",
            "Parallel: 0.056\n",
            "Sequential: 0.187\n",
            "Parallel: 0.073\n",
            "Sequential: 0.3\n",
            "Parallel: 0.083\n",
            "Sequential: 0.466\n",
            "Parallel: 0.105\n",
            "Sequential: 0.65\n",
            "Parallel: 0.144\n",
            "Sequential: 0.89\n",
            "Parallel: 0.152\n",
            "Sequential: 1.182\n",
            "Parallel: 0.179\n",
            "Sequential: 1.455\n",
            "Parallel: 0.215\n",
            "Sequential: 1.922\n",
            "Parallel: 0.255\n",
            "Sequential: 2.475\n",
            "Parallel: 0.281\n"
          ],
          "name": "stdout"
        }
      ]
    },
    {
      "cell_type": "code",
      "metadata": {
        "colab": {
          "base_uri": "https://localhost:8080/",
          "height": 312
        },
        "id": "xNTCIzYNTYVY",
        "outputId": "28cafc31-1471-4a21-aa40-2f2f51f5808b"
      },
      "source": [
        "import matplotlib.pyplot as plt\n",
        "\n",
        "plt.plot(time_multiply_matrices)\n",
        "plt.plot(time_multiply_matrices_parallel)\n",
        "plt.xlabel('Matrices Size (times 10)')\n",
        "plt.ylabel('Running Time (seconds)')\n",
        "plt.title('Parallel vs. Sequential Matrix Multiplication')\n",
        "plt.legend(['Sequential', 'Parallel'])"
      ],
      "execution_count": 13,
      "outputs": [
        {
          "output_type": "execute_result",
          "data": {
            "text/plain": [
              "<matplotlib.legend.Legend at 0x7f6993109b00>"
            ]
          },
          "metadata": {
            "tags": []
          },
          "execution_count": 13
        },
        {
          "output_type": "display_data",
          "data": {
            "image/png": "[encoded data removed]",
            "text/plain": [
              "<Figure size 432x288 with 1 Axes>"
            ]
          },
          "metadata": {
            "tags": [],
            "needs_background": "light"
          }
        }
      ]
    }
  ]
}